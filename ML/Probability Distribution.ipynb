{
 "cells": [
  {
   "cell_type": "code",
   "execution_count": 44,
   "metadata": {},
   "outputs": [
    {
     "data": {
      "text/plain": [
       "array([ 0,  1,  2,  3,  4,  5,  6,  7,  8,  9, 10, 11, 12, 13, 14, 15, 16,\n",
       "       17, 18, 19, 20, 21, 22, 23, 24, 25])"
      ]
     },
     "execution_count": 44,
     "metadata": {},
     "output_type": "execute_result"
    }
   ],
   "source": [
    "import numpy as np\n",
    "import matplotlib\n",
    "import matplotlib.pyplot as plt\n",
    "from scipy.stats import poisson \n",
    "goal = np.arange(5,11)\n",
    "goal\n"
   ]
  },
  {
   "cell_type": "code",
   "execution_count": 67,
   "metadata": {},
   "outputs": [
    {
     "name": "stdout",
     "output_type": "stream",
     "text": [
      "[4.07622040e-02 1.30439053e-01 2.08702484e-01 2.22615983e-01\n",
      " 1.78092787e-01 1.13979383e-01 6.07890045e-02 2.77892592e-02\n",
      " 1.11157037e-02 3.95225020e-03 1.26472006e-03 3.67918564e-04\n",
      " 9.81116170e-05 2.41505519e-05 5.52012615e-06 1.17762691e-06\n",
      " 2.35525382e-07 4.43341896e-08 7.88163371e-09 1.32743305e-09\n",
      " 2.12389287e-10 3.23640819e-11 4.70750282e-12 6.54956914e-13\n",
      " 8.73275885e-14 1.11779313e-14]\n"
     ]
    },
    {
     "data": {
      "text/plain": [
       "[<matplotlib.lines.Line2D at 0x2a6d09c8b20>]"
      ]
     },
     "execution_count": 67,
     "metadata": {},
     "output_type": "execute_result"
    },
    {
     "data": {
      "image/png": "[encoded data removed]",
      "text/plain": [
       "<Figure size 432x288 with 1 Axes>"
      ]
     },
     "metadata": {
      "needs_background": "light"
     },
     "output_type": "display_data"
    }
   ],
   "source": [
    "def poison(size):\n",
    "    lamda = 3.2\n",
    "    prb = poisson.pmf(size,3.2)\n",
    "    return prb\n",
    "\n",
    "p = poison(goal)\n",
    "print(p)\n",
    "plt.plot(goal,p,'o',color='green')\n",
    "# plt.hist(p, density = True) "
   ]
  },
  {
   "cell_type": "code",
   "execution_count": null,
   "metadata": {},
   "outputs": [],
   "source": []
  },
  {
   "cell_type": "code",
   "execution_count": 68,
   "metadata": {},
   "outputs": [
    {
     "name": "stdout",
     "output_type": "stream",
     "text": [
      "3.1999999999999584\n"
     ]
    },
    {
     "data": {
      "text/plain": [
       "0.21925823969185498"
      ]
     },
     "execution_count": 68,
     "metadata": {},
     "output_type": "execute_result"
    }
   ],
   "source": [
    "print(np.matmul(goal,p))\n",
    "u=poisson.cdf(11,3.2)\n",
    "k=poisson.cdf(4,3.2)\n",
    "u-k"
   ]
  },
  {
   "cell_type": "code",
   "execution_count": 52,
   "metadata": {},
   "outputs": [
    {
     "data": {
      "text/plain": [
       "0.0001267747504138687"
      ]
     },
     "execution_count": 52,
     "metadata": {},
     "output_type": "execute_result"
    }
   ],
   "source": [
    "poisson.pmf(60,37)"
   ]
  },
  {
   "cell_type": "code",
   "execution_count": 7,
   "metadata": {},
   "outputs": [
    {
     "data": {
      "text/plain": [
       "[Text(0.5, 0, 'Probability'), Text(0, 0.5, 'frequency')]"
      ]
     },
     "execution_count": 7,
     "metadata": {},
     "output_type": "execute_result"
    },
    {
     "data": {
      "image/png": "[encoded data removed]",
      "text/plain": [
       "<Figure size 432x288 with 1 Axes>"
      ]
     },
     "metadata": {
      "needs_background": "light"
     },
     "output_type": "display_data"
    }
   ],
   "source": [
    "import seaborn as sns\n",
    "from scipy.stats import binom\n",
    "data_bino = binom.rvs(n=30, p=0.75,size = 10000)\n",
    "ax = sns.histplot(data_bino, kde=True)\n",
    "ax.set(xlabel='Probability', ylabel='frequency')\n"
   ]
  },
  {
   "cell_type": "code",
   "execution_count": 2,
   "metadata": {},
   "outputs": [
    {
     "data": {
      "text/plain": [
       "0.0007864320000000006"
      ]
     },
     "execution_count": 2,
     "metadata": {},
     "output_type": "execute_result"
    }
   ],
   "source": [
    "import seaborn as sns\n",
    "from scipy.stats import binom\n",
    "data_bino = binom.pmf(7,10,0.2)\n",
    "data_bino\n",
    "# mean, var = binom.stats(10, 0.2) \n",
    "# print(mean)\n",
    "# print()\n",
    "# ax = sns.histplot(data_bino, kde=True)\n",
    "# ax.set(xlabel='Probability', ylabel='frequency')"
   ]
  }
 ],
 "metadata": {
  "kernelspec": {
   "display_name": "Python 3",
   "language": "python",
   "name": "python3"
  },
  "language_info": {
   "codemirror_mode": {
    "name": "ipython",
    "version": 3
   },
   "file_extension": ".py",
   "mimetype": "text/x-python",
   "name": "python",
   "nbconvert_exporter": "python",
   "pygments_lexer": "ipython3",
   "version": "3.8.5"
  }
 },
 "nbformat": 4,
 "nbformat_minor": 4
}
