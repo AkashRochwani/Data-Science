{
 "cells": [
  {
   "cell_type": "code",
   "execution_count": 1,
   "metadata": {},
   "outputs": [],
   "source": [
    "import numpy as np\n",
    "import matplotlib.pyplot as plt\n",
    "import matplotlib.animation as animation"
   ]
  },
  {
   "cell_type": "code",
   "execution_count": 2,
   "metadata": {},
   "outputs": [
    {
     "name": "stdout",
     "output_type": "stream",
     "text": [
      "[[ 1.         -1.        ]\n",
      " [ 1.         -0.97979798]\n",
      " [ 1.         -0.95959596]\n",
      " [ 1.         -0.93939394]\n",
      " [ 1.         -0.91919192]\n",
      " [ 1.         -0.8989899 ]\n",
      " [ 1.         -0.87878788]\n",
      " [ 1.         -0.85858586]\n",
      " [ 1.         -0.83838384]\n",
      " [ 1.         -0.81818182]\n",
      " [ 1.         -0.7979798 ]\n",
      " [ 1.         -0.77777778]\n",
      " [ 1.         -0.75757576]\n",
      " [ 1.         -0.73737374]\n",
      " [ 1.         -0.71717172]\n",
      " [ 1.         -0.6969697 ]\n",
      " [ 1.         -0.67676768]\n",
      " [ 1.         -0.65656566]\n",
      " [ 1.         -0.63636364]\n",
      " [ 1.         -0.61616162]\n",
      " [ 1.         -0.5959596 ]\n",
      " [ 1.         -0.57575758]\n",
      " [ 1.         -0.55555556]\n",
      " [ 1.         -0.53535354]\n",
      " [ 1.         -0.51515152]\n",
      " [ 1.         -0.49494949]\n",
      " [ 1.         -0.47474747]\n",
      " [ 1.         -0.45454545]\n",
      " [ 1.         -0.43434343]\n",
      " [ 1.         -0.41414141]\n",
      " [ 1.         -0.39393939]\n",
      " [ 1.         -0.37373737]\n",
      " [ 1.         -0.35353535]\n",
      " [ 1.         -0.33333333]\n",
      " [ 1.         -0.31313131]\n",
      " [ 1.         -0.29292929]\n",
      " [ 1.         -0.27272727]\n",
      " [ 1.         -0.25252525]\n",
      " [ 1.         -0.23232323]\n",
      " [ 1.         -0.21212121]\n",
      " [ 1.         -0.19191919]\n",
      " [ 1.         -0.17171717]\n",
      " [ 1.         -0.15151515]\n",
      " [ 1.         -0.13131313]\n",
      " [ 1.         -0.11111111]\n",
      " [ 1.         -0.09090909]\n",
      " [ 1.         -0.07070707]\n",
      " [ 1.         -0.05050505]\n",
      " [ 1.         -0.03030303]\n",
      " [ 1.         -0.01010101]\n",
      " [ 1.          0.01010101]\n",
      " [ 1.          0.03030303]\n",
      " [ 1.          0.05050505]\n",
      " [ 1.          0.07070707]\n",
      " [ 1.          0.09090909]\n",
      " [ 1.          0.11111111]\n",
      " [ 1.          0.13131313]\n",
      " [ 1.          0.15151515]\n",
      " [ 1.          0.17171717]\n",
      " [ 1.          0.19191919]\n",
      " [ 1.          0.21212121]\n",
      " [ 1.          0.23232323]\n",
      " [ 1.          0.25252525]\n",
      " [ 1.          0.27272727]\n",
      " [ 1.          0.29292929]\n",
      " [ 1.          0.31313131]\n",
      " [ 1.          0.33333333]\n",
      " [ 1.          0.35353535]\n",
      " [ 1.          0.37373737]\n",
      " [ 1.          0.39393939]\n",
      " [ 1.          0.41414141]\n",
      " [ 1.          0.43434343]\n",
      " [ 1.          0.45454545]\n",
      " [ 1.          0.47474747]\n",
      " [ 1.          0.49494949]\n",
      " [ 1.          0.51515152]\n",
      " [ 1.          0.53535354]\n",
      " [ 1.          0.55555556]\n",
      " [ 1.          0.57575758]\n",
      " [ 1.          0.5959596 ]\n",
      " [ 1.          0.61616162]\n",
      " [ 1.          0.63636364]\n",
      " [ 1.          0.65656566]\n",
      " [ 1.          0.67676768]\n",
      " [ 1.          0.6969697 ]\n",
      " [ 1.          0.71717172]\n",
      " [ 1.          0.73737374]\n",
      " [ 1.          0.75757576]\n",
      " [ 1.          0.77777778]\n",
      " [ 1.          0.7979798 ]\n",
      " [ 1.          0.81818182]\n",
      " [ 1.          0.83838384]\n",
      " [ 1.          0.85858586]\n",
      " [ 1.          0.87878788]\n",
      " [ 1.          0.8989899 ]\n",
      " [ 1.          0.91919192]\n",
      " [ 1.          0.93939394]\n",
      " [ 1.          0.95959596]\n",
      " [ 1.          0.97979798]\n",
      " [ 1.          1.        ]]\n"
     ]
    }
   ],
   "source": [
    "data_x = np.linspace(-10.0, 10.0, 100)[:, np.newaxis]\n",
    "data_y = 29*data_x + 20*np.random.randn(100,1)\n",
    "data_x = data_x/np.max(data_x)\n",
    "data_x = np.hstack((np.ones_like(data_x), data_x))\n",
    "print(data_x)"
   ]
  },
  {
   "cell_type": "code",
   "execution_count": 3,
   "metadata": {},
   "outputs": [],
   "source": [
    "order = np.random.permutation(len(data_x))\n",
    "portion = 20"
   ]
  },
  {
   "cell_type": "code",
   "execution_count": 4,
   "metadata": {},
   "outputs": [
    {
     "name": "stdout",
     "output_type": "stream",
     "text": [
      "(20, 2) 160 20 80\n"
     ]
    }
   ],
   "source": [
    "test_x = data_x[order[:portion]]\n",
    "test_y = data_y[order[:portion]]\n",
    "train_x = data_x[order[portion:]]\n",
    "train_y = data_y[order[portion:]]\n",
    "print (test_x.shape, train_x.size, test_y.size, train_y.size)"
   ]
  },
  {
   "cell_type": "code",
   "execution_count": 5,
   "metadata": {
    "scrolled": true
   },
   "outputs": [
    {
     "data": {
      "text/plain": [
       "<matplotlib.collections.PathCollection at 0x14f6b2346a0>"
      ]
     },
     "execution_count": 5,
     "metadata": {},
     "output_type": "execute_result"
    },
    {
     "data": {
      "image/png": "[encoded data removed]",
      "text/plain": [
       "<Figure size 432x288 with 1 Axes>"
      ]
     },
     "metadata": {
      "needs_background": "light"
     },
     "output_type": "display_data"
    }
   ],
   "source": [
    "plt.scatter(train_x[:,1], train_y, c='r', label='Data')"
   ]
  },
  {
   "cell_type": "code",
   "execution_count": 6,
   "metadata": {},
   "outputs": [],
   "source": [
    "def get_gradient(w, x, y):\n",
    "    y_estimate = (x.dot(w)).flatten() #hypothesis\n",
    "    error = (y.flatten() - y_estimate) \n",
    "    mse = (1.0/len(x))*np.sum(np.power(error,2)) # mse\n",
    "    gradient = -(1.0/len(x)) * error.dot(np.power(x,1))         # gradient\n",
    "    return gradient, mse"
   ]
  },
  {
   "cell_type": "code",
   "execution_count": 7,
   "metadata": {},
   "outputs": [
    {
     "name": "stdout",
     "output_type": "stream",
     "text": [
      "Intial values of Weights:\n",
      "-1.5322467660715247 -0.5103616396819821\n",
      "Iteration: 10 - Error: 11717.0944\n",
      "Updated Weights : 110.675896 , 3.003615\n",
      "Iteration: 20 - Error: 4221.0843\n",
      "Updated Weights : 185.770077 , 2.350929\n",
      "Iteration: 30 - Error: 1649.6992\n",
      "Updated Weights : 229.742555 , 1.307605\n",
      "Iteration: 40 - Error: 767.2282\n",
      "Updated Weights : 255.499326 , 0.566407\n",
      "Iteration: 50 - Error: 464.3584\n",
      "Updated Weights : 270.587875 , 0.106622\n",
      "Iteration: 60 - Error: 360.4110\n",
      "Updated Weights : 279.427196 , -0.167764\n",
      "Iteration: 70 - Error: 324.7353\n",
      "Updated Weights : 284.605593 , -0.329499\n",
      "Iteration: 80 - Error: 312.4911\n",
      "Updated Weights : 287.639300 , -0.424445\n",
      "Iteration: 90 - Error: 308.2888\n",
      "Updated Weights : 289.416567 , -0.480106\n",
      "Iteration: 100 - Error: 306.8466\n",
      "Updated Weights : 290.457760 , -0.512722\n",
      "Iteration: 110 - Error: 306.3516\n",
      "Updated Weights : 291.067733 , -0.531831\n",
      "Iteration: 120 - Error: 306.1817\n",
      "Updated Weights : 291.425080 , -0.543026\n",
      "Iteration: 130 - Error: 306.1234\n",
      "Updated Weights : 291.634428 , -0.549585\n",
      "Iteration: 140 - Error: 306.1033\n",
      "Updated Weights : 291.757072 , -0.553427\n",
      "Iteration: 150 - Error: 306.0965\n",
      "Updated Weights : 291.828922 , -0.555678\n",
      "Iteration: 160 - Error: 306.0941\n",
      "Updated Weights : 291.871015 , -0.556997\n",
      "Iteration: 170 - Error: 306.0933\n",
      "Updated Weights : 291.895675 , -0.557769\n",
      "Iteration: 180 - Error: 306.0930\n",
      "Updated Weights : 291.910121 , -0.558222\n",
      "Converged\n",
      "Final Weights : 291.912194 , -0.558287\n",
      "Test Cost = 443.6721417164995\n"
     ]
    }
   ],
   "source": [
    "w = np.random.randn(2) # Random Intialization\n",
    "alpha = 0.15 # learning rate\n",
    "tolerance = 1e-3 # param for stopping the loop\n",
    "print(\"Intial values of Weights:\")\n",
    "print(w[1], w[0])\n",
    "# Perform Gradient Descent\n",
    "iterations = 1\n",
    "while True:\n",
    "    gradient, error = get_gradient(w, train_x, train_y)\n",
    "    new_w = w - alpha * gradient\n",
    "#     print(gradient)\n",
    "    \n",
    "    # Stopping Condition\n",
    "    if np.sum(abs(new_w - w)) < tolerance:\n",
    "        print (\"Converged\")\n",
    "        break\n",
    "    \n",
    "    # Print error every 10 iterations\n",
    "    if iterations % 10 == 0:\n",
    "        print (\"Iteration: %d - Error: %.4f\" %(iterations, error))\n",
    "        print (\"Updated Weights : {:f} , {:f}\".format(w[1], w[0]))\n",
    "    iterations += 1\n",
    "    w = new_w\n",
    "\n",
    "print (\"Final Weights : {:f} , {:f}\".format(w[1], w[0]))\n",
    "print (\"Test Cost =\", get_gradient(w, test_x, test_y)[1])"
   ]
  },
  {
   "cell_type": "code",
   "execution_count": 8,
   "metadata": {},
   "outputs": [
    {
     "name": "stdout",
     "output_type": "stream",
     "text": [
      "Final eqn / hypothesis looks like:\n",
      "y = 291.912194.x + -0.558287\n"
     ]
    }
   ],
   "source": [
    "print(\"Final eqn / hypothesis looks like:\")\n",
    "print('y = {:f}.x + {:f}'.format(w[1], w[0]))"
   ]
  },
  {
   "cell_type": "code",
   "execution_count": 9,
   "metadata": {},
   "outputs": [
    {
     "data": {
      "image/png": "[encoded data removed]",
      "text/plain": [
       "<Figure size 432x288 with 1 Axes>"
      ]
     },
     "metadata": {
      "needs_background": "light"
     },
     "output_type": "display_data"
    }
   ],
   "source": [
    "plt.plot(data_x[:,1], (data_x).dot(w), c='g', label='Model')\n",
    "plt.scatter(train_x[:,1], train_y, c='b', label='Train Set')\n",
    "plt.scatter(test_x[:,1], test_y, c='r', label='Test Set')\n",
    "plt.grid()\n",
    "plt.legend(loc='best')\n",
    "plt.xlabel('X')\n",
    "plt.ylabel('Y')\n",
    "plt.show()"
   ]
  }
 ],
 "metadata": {
  "kernelspec": {
   "display_name": "Python 3",
   "language": "python",
   "name": "python3"
  },
  "language_info": {
   "codemirror_mode": {
    "name": "ipython",
    "version": 3
   },
   "file_extension": ".py",
   "mimetype": "text/x-python",
   "name": "python",
   "nbconvert_exporter": "python",
   "pygments_lexer": "ipython3",
   "version": "3.8.5"
  }
 },
 "nbformat": 4,
 "nbformat_minor": 4
}
