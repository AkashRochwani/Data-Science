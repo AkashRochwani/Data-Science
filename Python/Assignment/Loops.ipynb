{
 "cells": [
  {
   "cell_type": "code",
   "execution_count": 13,
   "metadata": {},
   "outputs": [
    {
     "name": "stdout",
     "output_type": "stream",
     "text": [
      "Enter a Number betweem 0 to 9 : 6\n",
      "The Numer entered by user is 6 , Six\n"
     ]
    }
   ],
   "source": [
    "# Q. W. A P. which takes one number from 0 to 9 from the user and prints\n",
    "# it in the word. And if the word is not from 0 to 9 then\n",
    "# it should print that number is outside of the range and program should\n",
    "# exit.\n",
    "\n",
    "num1 = int(input(\"Enter a Number betweem 0 to 9 : \"))\n",
    "\n",
    "if num1>=0 and num1<=10:\n",
    "    if num1 == 0:\n",
    "        print(f\"The Numer entered by user is {num1} , Zero\")\n",
    "    elif num1 == 1:\n",
    "        print(f\"The Numer entered by user is {num1} , One\")\n",
    "    elif num1 == 2:\n",
    "        print(f\"The Numer entered by user is {num1} , Two\")\n",
    "    elif num1 == 3:\n",
    "        print(f\"The Numer entered by user is {num1} , Three\")\n",
    "    elif num1 == 4:\n",
    "        print(f\"The Numer entered by user is {num1} , Four\")\n",
    "    elif num1 == 5:\n",
    "        print(f\"The Numer entered by user is {num1} , Five\")\n",
    "    elif num1 == 6:\n",
    "        print(f\"The Numer entered by user is {num1} , Six\")\n",
    "    elif num1 == 7:\n",
    "        print(f\"The Numer entered by user is {num1} , Seven\")\n",
    "    elif num1 == 8:\n",
    "        print(f\"The Numer entered by user is {num1} , Eight\")\n",
    "    elif num1 == 9:\n",
    "        print(f\"The Numer entered by user is {num1} , Nine\")\n",
    "else:\n",
    "    print(f\"The Numer entered {num1} is not between 0 and 9.\")        \n",
    "\n"
   ]
  },
  {
   "cell_type": "code",
   "execution_count": null,
   "metadata": {},
   "outputs": [],
   "source": [
    "# Q. W. A P. to implement calculator but the operation to be done and two\n",
    "# numbers will be taken as input from user:-\n",
    "# Operation console should show below:-\n",
    "#  Please select any one operation from below:-\n",
    "#  * To add enter 1\n",
    "#  * to subtract enter 2\n",
    "#  * To multiply enter 3\n",
    "#  * To divide enter 4\n",
    "#  * To divide and find quotient enter 5\n",
    "#  * To divide and find remainder enter 6\n",
    "#  * To divide and find num1 to the power of num2 enter 7\n",
    "#  * To Come out of the program enter 8\n",
    "\n",
    "\n",
    "\n"
   ]
  },
  {
   "cell_type": "code",
   "execution_count": 16,
   "metadata": {},
   "outputs": [
    {
     "name": "stdout",
     "output_type": "stream",
     "text": [
      "Enter first Number: 5\n",
      "Enter second Number: 3\n",
      "Please select any one operation from below:-\n",
      " * To add enter 1\n",
      " * to subtract enter 2\n",
      " * To multiply enter 3\n",
      " * To divide enter 4\n",
      " * To divide and find quotient enter 5\n",
      " * To divide and find remainder enter 6\n",
      " * To divide and find num1 to the power of num2 enter 7\n",
      " * To Come out of the program enter 8\n",
      "Enter the corresponding Number to perform the operation: 4\n",
      "The Division of two numers 5 and 3 is: 1.6666666666666667\n"
     ]
    }
   ],
   "source": [
    "num1 = eval(input(\"Enter first Number: \"))\n",
    "num2 = eval(input(\"Enter second Number: \"))\n",
    "\n",
    "print(\"\"\"Please select any one operation from below:-\n",
    " * To add enter 1\n",
    " * to subtract enter 2\n",
    " * To multiply enter 3\n",
    " * To divide enter 4\n",
    " * To divide and find quotient enter 5\n",
    " * To divide and find remainder enter 6\n",
    " * To divide and find num1 to the power of num2 enter 7\n",
    " * To Come out of the program enter 8\"\"\")\n",
    "\n",
    "num3 = int(input(\"Enter the corresponding Number to perform the operation: \"))\n",
    "\n",
    "if num3>=1 and num3<=8:\n",
    "    if num3 == 1:\n",
    "        print(f\"The Sum of two numers {num1} and {num2} is: {num1 + num2}\")\n",
    "    elif num3 == 2:\n",
    "        print(f\"The Difference of two numers {num1} and {num2} is: {num1 - num2}\")\n",
    "    elif num3 == 3:\n",
    "        print(f\"The multiplication of two numers {num1} and {num2} is: {num1*num2}\")\n",
    "    elif num3 == 4:\n",
    "        print(f\"The Division of two numers {num1} and {num2} is: {num1/num2}\")\n",
    "    elif num3 == 5:\n",
    "        print(f\"The Quotient of two numers {num1} and {num2} is: {num1//num2}\")\n",
    "    elif num3 == 6:\n",
    "        print(f\"The remainder of two numers {num1} and {num2} is: {num1%num2}\")\n",
    "    elif num3 == 7:\n",
    "        print(f\"The exponential calculation of two numers {num1} and {num2} is: {num1**num2}\")\n",
    "    elif num3 == 8:\n",
    "        print(\"The End\")\n",
    "        pass\n",
    "else:\n",
    "    print(f\"The entered {num3} does not correspond to an operation.\")        \n"
   ]
  },
  {
   "cell_type": "code",
   "execution_count": 18,
   "metadata": {},
   "outputs": [
    {
     "name": "stdout",
     "output_type": "stream",
     "text": [
      "Enter the year in YYYY format to check if it's a Leap year: 1971\n",
      "The year entered 1971 is not a leap year.\n"
     ]
    }
   ],
   "source": [
    "# Q. W A P to check whether a year entered by user is an leap year or not?\n",
    "# Check with below input:-\n",
    "#  leap year:- 2012, 1968, 2004, 1200, 1600,2400\n",
    "#  Non-leap year:- 1971, 2006, 1700,1800,1900\n",
    "\n",
    "num1 = int(input(\"Enter the year in YYYY format to check if it's a Leap year: \"))\n",
    "if num1%4 == 0:\n",
    "    print(f\"The year entered {num1} is a leap year.\")\n",
    "else:\n",
    "    print(f\"The year entered {num1} is not a leap year.\")"
   ]
  },
  {
   "cell_type": "code",
   "execution_count": 21,
   "metadata": {},
   "outputs": [
    {
     "name": "stdout",
     "output_type": "stream",
     "text": [
      "Enter the numbert to check if it's an even number: 54\n",
      "The number entered 54 is an even number.\n"
     ]
    }
   ],
   "source": [
    "# W A P which takes one number from the user and checks whether it is\n",
    "# an even or odd number?, If it even then prints number is\n",
    "# even number else prints that number is odd number.\n",
    "\n",
    "num1 = int(input(\"Enter the numbert to check if it's an even number: \"))\n",
    "if num1%2 == 0:\n",
    "    print(f\"The number entered {num1} is an even number.\")\n",
    "else:\n",
    "    print(f\"The number entered {num1} is an odd number.\")\n",
    "\n"
   ]
  },
  {
   "cell_type": "code",
   "execution_count": 29,
   "metadata": {},
   "outputs": [
    {
     "name": "stdout",
     "output_type": "stream",
     "text": [
      "Enter first Number: 15\n",
      "Enter second Number: 24\n",
      "15 is smaller to 24\n"
     ]
    }
   ],
   "source": [
    "# W A P which takes two numbers from the user and prints below output:-\n",
    "#  1. num1 is greater than num2 if num1 is greater than num2\n",
    "#  2. num1 is smaller than num2 if num1 is smaller than num2\n",
    "#  3. num1 is equal to num2 if num1 and num2 are equal\n",
    "\n",
    "num1 = eval(input(\"Enter first Number: \"))\n",
    "num2 = eval(input(\"Enter second Number: \"))\n",
    "\n",
    "if num1 >= num2:\n",
    "    if num1 > num2:\n",
    "        print(f\"{num1} is greater than {num2}\")\n",
    "    else:\n",
    "        print(f\"{num1} is equal to {num2}\")\n",
    "else:\n",
    "    print(f\"{num1} is smaller to {num2}\")"
   ]
  },
  {
   "cell_type": "code",
   "execution_count": 34,
   "metadata": {},
   "outputs": [
    {
     "name": "stdout",
     "output_type": "stream",
     "text": [
      "Enter first Number: 12\n",
      "Enter second Number: 23\n",
      "Enter third Number: 58\n",
      "58 is greater than 23 and 12\n"
     ]
    }
   ],
   "source": [
    "# Q. W A P which takes three numbers from the user and prints below\n",
    "# output:-\n",
    "#  1. num1 is greater than num2 and num3 if num1 is greater than num2\n",
    "# and num3\n",
    "#  2. num2 is greater than num1 and num3 if num2 is greater than num1\n",
    "# and num3\n",
    "#  3. num3 is greater than num1 and num2 if num3 is greater than num1\n",
    "# and num2\n",
    "\n",
    "num1 = eval(input(\"Enter first Number: \"))\n",
    "num2 = eval(input(\"Enter second Number: \"))\n",
    "num3 = eval(input(\"Enter third Number: \"))\n",
    "num4 = 0\n",
    "\n",
    "if num1 > num2 and num1 > num3:\n",
    "    print(f\"{num1} is greater than {num2} and {num3}\")\n",
    "elif num2 > num1 and num2 > num3:\n",
    "    print(f\"{num2} is greater than {num3} and {num1}\")\n",
    "elif num3 > num1 and num3 > num2:\n",
    "    print(f\"{num3} is greater than {num2} and {num1}\")\n",
    "else:\n",
    "    print(\"All three numbers are equal\")\n"
   ]
  },
  {
   "cell_type": "code",
   "execution_count": 5,
   "metadata": {},
   "outputs": [
    {
     "name": "stdout",
     "output_type": "stream",
     "text": [
      "The length of the string is 5\n"
     ]
    }
   ],
   "source": [
    "# Q. Write a Python program to find the length of the my_str using loop:-\n",
    "# Input:- 'Write a Python program to find the length of the my_str'\n",
    "# Output:- 55\n",
    "\n",
    "my_str1 = 'Write a Python program to find the length of the my_str'\n",
    "i=0\n",
    "\n",
    "while i < len(my_str1):\n",
    "    i = i+1\n",
    "    \n",
    "print(f\"The length of the string is {i}\")\n"
   ]
  },
  {
   "cell_type": "code",
   "execution_count": 5,
   "metadata": {},
   "outputs": [
    {
     "name": "stdout",
     "output_type": "stream",
     "text": [
      "Total number of times letter 'p' occurs is 9\n"
     ]
    }
   ],
   "source": [
    "# Q. Write a Python program to find the total number of times letter 'p'\n",
    "# is appeared in the below string using loop:-\n",
    "# Input:- 'peter piper picked a peck of pickled peppers.\\n'\n",
    "# Output:- 9\n",
    "\n",
    "my_str1 = 'peter piper picked a peck of pickled peppers.\\n'\n",
    "\n",
    "i=0\n",
    "j=0\n",
    "while i < len(my_str1):\n",
    "    if my_str1[i] == \"p\":\n",
    "        j = j+1\n",
    "    i=i+1\n",
    "        \n",
    "print(f\"Total number of times letter 'p' occurs is {j}\")\n"
   ]
  },
  {
   "cell_type": "code",
   "execution_count": 6,
   "metadata": {},
   "outputs": [
    {
     "name": "stdout",
     "output_type": "stream",
     "text": [
      "0\n",
      "6\n",
      "8\n",
      "12\n",
      "21\n",
      "29\n",
      "37\n",
      "39\n",
      "40\n"
     ]
    }
   ],
   "source": [
    "# Q. Write a Python Program, to print all the indexes of all occurences of\n",
    "# letter 'p' appeared in the string using loop:-\n",
    "\n",
    "my_str1 = 'peter piper picked a peck of pickled peppers.\\n'\n",
    "\n",
    "i=0\n",
    "\n",
    "while i < len(my_str1):\n",
    "    if my_str1[i] == \"p\":\n",
    "       print(i)\n",
    "    i=i+1"
   ]
  },
  {
   "cell_type": "code",
   "execution_count": 11,
   "metadata": {},
   "outputs": [
    {
     "name": "stdout",
     "output_type": "stream",
     "text": [
      "['peter ', 'piper ', 'picked ', 'a ', 'peck ', 'of ', 'pickled ']\n"
     ]
    }
   ],
   "source": [
    "# Q. Write a python program to find below output using loop:-\n",
    "# Input:- 'peter piper picked a peck of pickled peppers.'\n",
    "# Output:- ['peter', 'piper', 'picked', 'a', 'peck', 'of', 'pickled',\n",
    "# 'peppers']\n",
    "\n",
    "my_str1 = 'peter piper picked a peck of pickled peppers.\\n'\n",
    "\n",
    "i=0\n",
    "store=\"\"\n",
    "list=[]\n",
    "while i < len(my_str1):\n",
    "    store = store + my_str1[i]\n",
    "    if my_str1[i] == \" \":\n",
    "       list.append(store)\n",
    "       store=\"\"\n",
    "    i=i+1\n",
    "\n",
    "print(list)\n",
    "\n",
    "\n",
    "\n"
   ]
  },
  {
   "cell_type": "code",
   "execution_count": 19,
   "metadata": {},
   "outputs": [
    {
     "name": "stdout",
     "output_type": "stream",
     "text": [
      "['peppers.', 'pickled', 'of', 'peck', 'a', 'picked', 'piper', 'peter']\n"
     ]
    }
   ],
   "source": [
    "# Q. Write a python program to find below output using loop:-\n",
    "# Input:- 'peter piper picked a peck of pickled peppers.'\n",
    "# Output:- 'peppers pickled of peck a picked piper peter'\n",
    "my_str1 = 'peter piper picked a peck of pickled peppers.'\n",
    "lst1=[]\n",
    "for wrd in my_str1.split(\" \"):\n",
    "      lst1.insert(0,wrd) \n",
    "\n",
    "print(lst1)   "
   ]
  },
  {
   "cell_type": "code",
   "execution_count": 59,
   "metadata": {},
   "outputs": [
    {
     "name": "stdout",
     "output_type": "stream",
     "text": [
      ".sreppep delkcip fo kcep a dekcip repip retep\n"
     ]
    }
   ],
   "source": [
    "# Q. Write a python program to find below output using loop:-\n",
    "# Input:- 'peter piper picked a peck of pickled peppers.'\n",
    "# Output:- '.sreppep delkcip fo kcep a dekcip repip retep'\n",
    "\n",
    "str1 = 'peter piper picked a peck of pickled peppers.'\n",
    "j = len(str1)\n",
    "str2=\"\"\n",
    "x = range(j-1, -1,-1)\n",
    "for n in x:\n",
    "    str2 = str2+str1[n]\n",
    "    \n",
    "print(str2)\n"
   ]
  },
  {
   "cell_type": "code",
   "execution_count": 116,
   "metadata": {},
   "outputs": [
    {
     "name": "stdout",
     "output_type": "stream",
     "text": [
      "  retep repip dekcip a kcep fo delkcip .sreppep\n"
     ]
    }
   ],
   "source": [
    "# Q. Write a python program to find below output using loop:-\n",
    "# Input:- 'peter piper picked a peck of pickled peppers.'\n",
    "# Output:- 'retep repip dekcip a kcep fo delkcip sreppep'\n",
    "\n",
    "str1 = 'peter piper picked a peck of pickled peppers.'\n",
    "lst = str1.split(\" \")\n",
    "# print(lst[1])\n",
    "str2= \" \"\n",
    "lst2=[]\n",
    "j=0\n",
    "for i in lst:\n",
    "    lst2.append(i[::-1])\n",
    "    str2 = str2 + \" \" + lst2[j]\n",
    "    j = j+1\n",
    "    \n",
    "print(str2)\n"
   ]
  },
  {
   "cell_type": "code",
   "execution_count": 9,
   "metadata": {},
   "outputs": [
    {
     "name": "stdout",
     "output_type": "stream",
     "text": [
      "peter piper picked A peck of pickled peppers. \n"
     ]
    }
   ],
   "source": [
    "# Q. Write a python program to find below output using loop:-\n",
    "# Input:- 'peter piper picked a peck of pickled peppers.'\n",
    "# Output:- 'Peter Piper Picked A Peck Of Pickled Peppers'\n",
    "str1 = 'peter piper picked a peck of pickled peppers.'\n",
    "str2=\"\"\n",
    "\n",
    "for i in str1.split(\" \"):\n",
    "    if (i == 'a'):\n",
    "        i=i.upper()\n",
    "        \n",
    "    str2 = str2 + i + \" \"\n",
    "\n",
    "print(str2)"
   ]
  },
  {
   "cell_type": "code",
   "execution_count": 20,
   "metadata": {},
   "outputs": [
    {
     "name": "stdout",
     "output_type": "stream",
     "text": [
      "Peter Piper Picked a Peck of Pickled Peppers \n"
     ]
    }
   ],
   "source": [
    "# Q. Write a python program to find below output using loop:-\n",
    "# Input:- 'Peter Piper Picked A Peck Of Pickled Peppers.'\n",
    "# Output:- 'Peter piper picked a peck of pickled peppers'\n",
    "\n",
    "str1 = 'Peter Piper Picked A Peck Of Pickled Peppers'\n",
    "str2=\"\"\n",
    "\n",
    "for i in str1.split(\" \"):\n",
    "    if (i == 'A'):\n",
    "        i=i.lower()\n",
    "    if (i == 'Of'):\n",
    "        i=i.lower()\n",
    "        \n",
    "    str2 = str2 + i + \" \"\n",
    "\n",
    "print(str2)\n",
    "\n"
   ]
  },
  {
   "cell_type": "code",
   "execution_count": 23,
   "metadata": {},
   "outputs": [
    {
     "name": "stdout",
     "output_type": "stream",
     "text": [
      "29\n"
     ]
    }
   ],
   "source": [
    "# Q. Write a python program to implement index method using loop. If\n",
    "# sub_str is found in my_str then it will print the index\n",
    "# of first occurrence of first character of matching string in my_str:-\n",
    "# Input:- my_str = 'Peter Piper Picked A Peck Of Pickled Peppers.',\n",
    "# sub_str = 'Pickl'\n",
    "\n",
    "str1 = 'Peter Piper Picked A Peck Of Pickled Peppers'\n",
    "str2=\"\"\n",
    "\n",
    "for i in str1.split(\" \"):\n",
    "    if (\"Pickl\" in i):\n",
    "        print(str1.index(i))\n",
    "        "
   ]
  },
  {
   "cell_type": "code",
   "execution_count": 47,
   "metadata": {},
   "outputs": [
    {
     "name": "stdout",
     "output_type": "stream",
     "text": [
      "Peter Piper Picked A Pack Of Pickled Peppers\n"
     ]
    }
   ],
   "source": [
    "# Input:- my_str = 'Peter Piper Picked A Peck Of Pickled Peppers.',\n",
    "# sub_str = 'Peck', new_str = 'Pack'\n",
    "# Output:- 'Peter Piper Picked A Pack Of Pickled Peppers.'\n",
    "\n",
    "str1 = 'Peter Piper Picked A Peck Of Pickled Peppers'\n",
    "str2=\"\"\n",
    "\n",
    "for i in str1.split(\" \"):\n",
    "     if (i == 'Peck'):\n",
    "            str2 = str1.replace(i, \"Pack\", 1)\n",
    "            \n",
    "print(str2)\n"
   ]
  },
  {
   "cell_type": "code",
   "execution_count": 63,
   "metadata": {},
   "outputs": [
    {
     "name": "stdout",
     "output_type": "stream",
     "text": [
      "*********************Peck********************\n"
     ]
    }
   ],
   "source": [
    "# Q. Write a python program to find below output (implements rjust and\n",
    "# ljust) using loop:-\n",
    "# Input:- 'Peter Piper Picked A Peck Of Pickled Peppers.', sub_str =\n",
    "# 'Peck',\n",
    "# Output:- '*********************Peck********************'\n",
    "str1 = 'Peter Piper Picked A Peck Of Pickled Peppers'\n",
    "x = len(str1)\n",
    "str2=\"\"\n",
    "\n",
    "for i in str1.split(\" \"):\n",
    "     if (i == 'Peck'):\n",
    "            str2 = i.rjust(str1.index(i)+len(i), \"*\")\n",
    "            str3 = str2.ljust(x+1,\"*\")\n",
    "            \n",
    "print(str3)\n",
    "\n"
   ]
  },
  {
   "cell_type": "code",
   "execution_count": 79,
   "metadata": {},
   "outputs": [
    {
     "name": "stdout",
     "output_type": "stream",
     "text": [
      "['This', 'is', 'Python class']\n"
     ]
    }
   ],
   "source": [
    "# Q. Write a python program to find below output using loop:-\n",
    "# Input:- 'This is Python class', sep = ' is',\n",
    "# Output:- ['This', 'is', 'Python class']\n",
    "\n",
    "str1 = 'This is Python class'\n",
    "lst1 = []\n",
    "\n",
    "for i in str1.split(\" \"):\n",
    "    if (i == 'Python'):\n",
    "            lst1.append(i+\" \" +str1.split(\" \")[3])\n",
    "            str2 = i\n",
    "            break\n",
    "             \n",
    "    lst1.append(i)\n",
    "           \n",
    "print(lst1)\n",
    "\n"
   ]
  },
  {
   "cell_type": "code",
   "execution_count": null,
   "metadata": {},
   "outputs": [],
   "source": []
  }
 ],
 "metadata": {
  "kernelspec": {
   "display_name": "Python 3",
   "language": "python",
   "name": "python3"
  },
  "language_info": {
   "codemirror_mode": {
    "name": "ipython",
    "version": 3
   },
   "file_extension": ".py",
   "mimetype": "text/x-python",
   "name": "python",
   "nbconvert_exporter": "python",
   "pygments_lexer": "ipython3",
   "version": "3.8.5"
  }
 },
 "nbformat": 4,
 "nbformat_minor": 4
}
